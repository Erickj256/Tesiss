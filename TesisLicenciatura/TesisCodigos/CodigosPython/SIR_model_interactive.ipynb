{
 "cells": [
  {
   "cell_type": "markdown",
   "id": "de11fc0a",
   "metadata": {},
   "source": [
    "# Modelo SIR\n",
    "\n",
    "\n",
    "- Suceptible ($\\frac{dS}{dt} = - \\frac{\\beta  S  I}{N}$)\n",
    "- Infectado  ($\\frac{dI}{dt} = \\frac{\\beta  S  I}{N} - \\gamma  I$)\n",
    "- Recuperado ($\\frac{dR}{dt} = - \\gamma  I$) "
   ]
  },
  {
   "cell_type": "code",
   "execution_count": 3,
   "id": "05f2de38",
   "metadata": {},
   "outputs": [],
   "source": [
    "import ipywidgets as widgets\n",
    "from ipywidgets import interact \n",
    "import numpy as np \n",
    "from scipy.integrate import odeint\n",
    "import matplotlib.pyplot as plt\n",
    "%matplotlib inline"
   ]
  },
  {
   "cell_type": "code",
   "execution_count": 4,
   "id": "5d43c63a",
   "metadata": {},
   "outputs": [
    {
     "data": {
      "application/vnd.jupyter.widget-view+json": {
       "model_id": "1903414a2c974c71ae3a75a0bbb581df",
       "version_major": 2,
       "version_minor": 0
      },
      "text/plain": [
       "interactive(children=(IntSlider(value=500000, description='poblacion_total', max=1000000), IntSlider(value=182…"
      ]
     },
     "metadata": {},
     "output_type": "display_data"
    }
   ],
   "source": [
    "def SuceptiblesIniciales(poblacion_total,VI_infectados,VI_recuperados):\n",
    "    return poblacion_total - (VI_infectados + VI_recuperados)\n",
    "\n",
    "def CalcularBeta(promedio_de_contactos,probabilidad_de_transmicion):\n",
    "    return promedio_de_contactos*probabilidad_de_transmicion\n",
    "\n",
    "def CalcularGamma(dias_de_recuperacion):\n",
    "    return 1.0/dias_de_recuperacion\n",
    "\n",
    "def deriv_suceptible(beta,suceptible,infectado,poblacion_total):\n",
    "    return -beta * suceptible *infectado / poblacion_total\n",
    "\n",
    "def deriv_infectado(beta,suceptible,infectado,poblacion_total,gamma):\n",
    "    return beta * suceptible * infectado / poblacion_total - gamma*infectado\n",
    "\n",
    "def deriv_recuperados(infectado,gamma):\n",
    "    return gamma*infectado\n",
    "\n",
    "def deriv_helper(VI,tiempo,poblacion_total,beta,gamma):\n",
    "    suceptible,infectado,recuperado = VI\n",
    "\n",
    "    dSdt = deriv_suceptible(beta, suceptible, infectado, poblacion_total)\n",
    "    dIdt = deriv_infectado(beta, suceptible, infectado, poblacion_total, gamma)\n",
    "    dRdt = deriv_recuperados(infectado, gamma)\n",
    "\n",
    "    return dSdt, dIdt, dRdt\n",
    "@interact(poblacion_total = (0,1000000),dias = (0,100),VI_infectados = (0,100),VI_recuperados = (0,100),promedio_de_contactos = (0,30),probabilidad_de_transmicion = (0.0,1.00),dias_de_recuperacion = (1,30))\n",
    "def plot_sir(poblacion_total,dias,VI_infectados,VI_recuperados,promedio_de_contactos,probabilidad_de_transmicion,dias_de_recuperacion):\n",
    "    #suceptibles iniciales\n",
    "    VI_suceptibles = SuceptiblesIniciales(poblacion_total, VI_infectados, VI_recuperados)\n",
    "    #beta \n",
    "    beta = CalcularBeta(promedio_de_contactos, probabilidad_de_transmicion)\n",
    "    #gamma\n",
    "    gamma = CalcularGamma(dias_de_recuperacion)\n",
    "    #tiempo\n",
    "    tiempo = np.linspace(0,dias,dias)\n",
    "    #condiciones iniciales\n",
    "    VI = (VI_suceptibles,VI_infectados,VI_recuperados)\n",
    "    #integramos\n",
    "    func_integ = odeint(deriv_helper, VI, tiempo, args = (poblacion_total,beta,gamma))\n",
    "    suceptible,infectado,recuperado = func_integ.T\n",
    "    \n",
    "    fig = plt.figure(figsize = (10,6.5),facecolor = 'w')\n",
    "    ax = fig.add_subplot(111,axisbelow=True)\n",
    "    ax.plot(tiempo, suceptible, 'b', alpha=0.5,lw=2, label = \"Suceptible\")\n",
    "    ax.plot(tiempo, infectado , 'r', alpha=0.5,lw=2, label = \"Infectado \")\n",
    "    ax.plot(tiempo, recuperado, 'g', alpha=0.5,lw=2, label = \"Recuperado\")\n",
    "\n",
    "    ax.set_xlabel(\"Días\")\n",
    "    ax.set_ylabel(\"Poblacion\")\n",
    "    ax.set_title(\"Modelo SIR\")\n",
    "    legend = ax.legend()\n",
    "\n",
    "    plt.grid()\n",
    "    plt.show()"
   ]
  },
  {
   "cell_type": "code",
   "execution_count": null,
   "id": "981903bd",
   "metadata": {},
   "outputs": [],
   "source": []
  }
 ],
 "metadata": {
  "kernelspec": {
   "display_name": "Python 3 (ipykernel)",
   "language": "python",
   "name": "python3"
  },
  "language_info": {
   "codemirror_mode": {
    "name": "ipython",
    "version": 3
   },
   "file_extension": ".py",
   "mimetype": "text/x-python",
   "name": "python",
   "nbconvert_exporter": "python",
   "pygments_lexer": "ipython3",
   "version": "3.9.6"
  }
 },
 "nbformat": 4,
 "nbformat_minor": 5
}
